{
 "cells": [
  {
   "cell_type": "markdown",
   "metadata": {},
   "source": [
    "# Listas en Scala\n",
    "\n",
    "Vamos a realizar algunos ejercicios con las listas. Empecemos:\n",
    "\n",
    "## Ejercicio 1. Obtener el elemento de la mitad de una lista.\n",
    "Implemente una función `obtenerMitad` que reciba un lista de cadenas de caracteres y que obtenga el elemento que esta en la mitad a lista, si el tamaño de la lista es par, sino obtiene la cadena vacía en caso que la lista sea impar. A continuación se describe la firma de la función:"
   ]
  },
  {
   "cell_type": "code",
   "execution_count": null,
   "metadata": {},
   "outputs": [],
   "source": [
    "def obtenerMitad(lst:List[String]):String = ???"
   ]
  },
  {
   "cell_type": "markdown",
   "metadata": {},
   "source": [
    "Ejecute los siguientes dos ejemplos que cumpla con lo especificado en la función."
   ]
  },
  {
   "cell_type": "code",
   "execution_count": null,
   "metadata": {},
   "outputs": [],
   "source": [
    "val listaPar = List(\"a\",\"b\",\"c\",\"d\")\n",
    "val listaImpar = List(\"a\",\"b\",\"c\",\"d\",\"e\")\n",
    "obtenerMitad(listaPar)\n",
    "obtenerMitad(listaImpar)"
   ]
  },
  {
   "cell_type": "markdown",
   "metadata": {},
   "source": [
    "Se espera que la primera función obtenga una cadena vacía `\"\"`. La ejecución de la segunda función returne la cadena `\"c\"`.\n",
    "\n",
    "## Ejercicio 2. El segundo al final.\n",
    "Implemente una función llamada `segundoAlFinal` que reciba una lista de cadenas de caracteres y que mueva el segundo elemento de la lista al final de la misma. A continuación se muestra la firma de la función:"
   ]
  },
  {
   "cell_type": "code",
   "execution_count": null,
   "metadata": {},
   "outputs": [],
   "source": [
    "def segundoAlFinal(lst:List[String]):List[String] = ???"
   ]
  },
  {
   "cell_type": "markdown",
   "metadata": {},
   "source": [
    "Ejecute los siguientes dos ejemplos que cumpla con lo especificado en la función."
   ]
  },
  {
   "cell_type": "code",
   "execution_count": null,
   "metadata": {},
   "outputs": [],
   "source": [
    "val lista1 = List(\"a\",\"b\",\"c\")\n",
    "val lista2 = List(\"a\",\"b\",\"c\",\"d\")\n",
    "segundoAlFinal(lista1)\n",
    "segundoAlFinal(lista2)"
   ]
  },
  {
   "cell_type": "markdown",
   "metadata": {},
   "source": [
    "Se espera que la primera invocación de `segundoAlFinal` obtenga: `[\"a\", \"c\", \"b\"]`. La segunda invocación obtenga: `[\"a\",\"c\",\"d\",\"b\"]`.\n",
    "\n",
    "# Ejercicio 3. Palindromos en listas de cadenas de carácteres.\n",
    "\n",
    "Un [palíndromo](https://es.wikipedia.org/wiki/Pal%C3%ADndromo#:~:text=Un%20pal%C3%ADndromo%20(del%20griego%20palin,(por%20ejemplo%2C%20Ana).&text=Habitualmente%2C%20las%20frases%20palindr%C3%B3micas%20se,significado%20cuanto%20m%C3%A1s%20largas%20son.) según Wikipedia es una palabra o frase que se puede leer en un sentido que en otro. En este problema vamos a tomar un camino similar pero modificando para las listas de cadenas de carácteres. La siguiente lista se considera un palíndromo para nuestro ejercicio: `List(\"a\", \"bc\", \"d\", \"bc\", \"a\")`. La siguiente lista no se considera un palíndromo: `List(\"a\", \"b\", \"c\", \"a\")`. Normalmente, este ejercicio requiere en muchas implementaciones del uso de ciclos, pero en este caso una de las ventajas de utilizar listas es que está suministra de medios para realizar, el conjunto de métodos de la clase [List](https://www.scala-lang.org/api/current/scala/collection/immutable/List.html). **Nota:** Un palíndromo es igual a si mismo si esta es invertido.\n",
    "La siguiente es la firma de la función:"
   ]
  },
  {
   "cell_type": "code",
   "execution_count": null,
   "metadata": {},
   "outputs": [],
   "source": [
    "def esPalindromo(lst:List[String]):Boolean = ???"
   ]
  },
  {
   "cell_type": "markdown",
   "metadata": {},
   "source": [
    "Ejecute los siguientes ejemplos que cumpla con lo especificado en la función:"
   ]
  },
  {
   "cell_type": "code",
   "execution_count": null,
   "metadata": {},
   "outputs": [],
   "source": [
    "val listPal1 = List(\"a\",\"bc\",\"d\",\"bc\",\"a\")\n",
    "val listPal2 = List(\"a\",\"b\",\"c\",\"a\")\n",
    "esPalindromo(listPal1)\n",
    "esPalindromo(listPal2)"
   ]
  },
  {
   "cell_type": "markdown",
   "metadata": {},
   "source": [
    "Se espera que la primera invocación de `esPalindromo`obtenga: `true`. La segunda invocación obtenga: `false`.\n",
    "\n",
    "# Ejercicio 4. Ubicar al principio.\n",
    "\n",
    "La función `ubicarAlInicio` busca un elemento dentro de una lista de cadenas de carácteres. Si este se encuentra, mueve el elemento al inicio de la lista, sino lo coloca la final. En ambos casos se produce una nueva lista.\n",
    "Por ejemplo, si la lista es `Lista(\"a\",\"b\",\"c\",\"d\",\"e\")` y el elemento a buscar es `\"d\"` se produce una nueva lista: `List(\"d\",\"a\",\"b\",\"c\",\"e\")`. De otra forma si la lista es `Lista(\"a\",\"b\",\"c\",\"d\",\"e\")` y el elemento a buscar es `\"f\"` nueva quedará así `Lista(\"a\",\"b\",\"c\",\"d\",\"e\",\"f\")`. La firma de la función es la siguiente:"
   ]
  },
  {
   "cell_type": "code",
   "execution_count": null,
   "metadata": {},
   "outputs": [],
   "source": [
    "def ubicarAlInicio(str:String, lst:List[String]):List[String] = ???"
   ]
  },
  {
   "cell_type": "code",
   "execution_count": null,
   "metadata": {},
   "outputs": [],
   "source": [
    "Ejecute su implementación con los siguientes ejemplos que cumpla con lo especificado en la función:"
   ]
  },
  {
   "cell_type": "code",
   "execution_count": null,
   "metadata": {},
   "outputs": [],
   "source": [
    "val listUbicar1 = Lista(\"a\", \"b\", \"c\", \"d\", \"e\")\n",
    "ubicarAlInicio(\"d\", listUbicar1)\n",
    "ubicarAlInicio(\"f\", listUbicar1)"
   ]
  },
  {
   "cell_type": "markdown",
   "metadata": {},
   "source": [
    "En la primera ejecución se obtiene: `List(\"d\",\"a\",\"b\",\"c\",\"e\")`. En la segunda ubicación se obtiene: `Lista(\"a\",\"b\",\"c\",\"d\",\"e\",\"f\")`"
   ]
  }
 ],
 "metadata": {
  "kernelspec": {
   "display_name": "Scala",
   "language": "scala",
   "name": "scala"
  },
  "language_info": {
   "codemirror_mode": "text/x-scala",
   "file_extension": ".sc",
   "mimetype": "text/x-scala",
   "name": "scala",
   "nbconvert_exporter": "script",
   "version": "2.13.3"
  }
 },
 "nbformat": 4,
 "nbformat_minor": 4
}
