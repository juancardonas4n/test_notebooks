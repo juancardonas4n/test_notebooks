{
 "cells": [
  {
   "cell_type": "markdown",
   "metadata": {},
   "source": [
    "# Problemas de estado mutable compartido\n",
    "En esta sección presentaremos dos problemas, en Java, cada problema contiene el problema del **estado mutable compartido**. La idea es solucionar cada estado mutable compartido utilizando la técnica de copia vista en el vídeo anterior.\n",
    "\n",
    "## Problema 1. (Sistema de transacciones)\n",
    "\n",
    "Un sistema de transacciones registra las operaciones en moneda extranjera, supogamos que tenemos un clase llamada `ForeingEx`chages que representa divisas en moneda extranjera y su valor multiplicativa de conversión actual. "
   ]
  },
  {
   "cell_type": "code",
   "execution_count": 10,
   "metadata": {},
   "outputs": [],
   "source": [
    "public class ForeignEx {\n",
    "   private double value;\n",
    "   public ForeignEx(double value) {\n",
    "      this.value = value;\n",
    "   }\n",
    "   public double getValue() {\n",
    "      return value;\n",
    "   }\n",
    "   public void setValue(double value) {\n",
    "      this.value = value;\n",
    "   }\n",
    "   public String toString() {\n",
    "      return \"\" + value;\n",
    "   }\n",
    "}"
   ]
  },
  {
   "cell_type": "markdown",
   "metadata": {},
   "source": [
    "Tenemos un sistema de transacciones a través de la clase `Transaction` que registra la cantidad de divisa extranjera en conjunto con el valor de la divisa extranjera. De la siguiente forma:"
   ]
  },
  {
   "cell_type": "code",
   "execution_count": 15,
   "metadata": {},
   "outputs": [],
   "source": [
    "public class Transaction {\n",
    "    private double amount;\n",
    "    private ForeignEx forEx;\n",
    "    public Transaction(double amount, ForeignEx forEx) {\n",
    "       this.amount = amount;\n",
    "       this.forEx = forEx;\n",
    "    }\n",
    "    public double getTransValue() {\n",
    "       return amount * forEx.getValue();\n",
    "    }\n",
    "    public String toString() {\n",
    "       return \"amount: \" + \" Foreign Exchange: \" + fe + \"\\nTotal: \" + getTransValue() + \"\\n\";\n",
    "    }\n",
    "}"
   ]
  },
  {
   "cell_type": "markdown",
   "metadata": {},
   "source": [
    "La siguiente es una operación de registrar varias operaciones en monto de moneda con dicha divisa y procesarla."
   ]
  },
  {
   "cell_type": "code",
   "execution_count": 19,
   "metadata": {},
   "outputs": [
    {
     "name": "stdout",
     "output_type": "stream",
     "text": [
      "[amount:  Foreign Exchange: 10.1\n",
      "Total: 12.12\n",
      ", amount:  Foreign Exchange: 10.1\n",
      "Total: 34.339999999999996\n",
      ", amount:  Foreign Exchange: 10.1\n",
      "Total: 56.559999999999995\n",
      "]\n"
     ]
    }
   ],
   "source": [
    "double amounts[] = { 1.2, 3.4, 5.6 };\n",
    "ForeignEx fe = new ForeignEx(10.1);\n",
    "List<Transaction> transDay1 = new ArrayList<>();\n",
    "for (int i = 0; i < amounts.length; i++) {\n",
    "    transDay1.add(new Transaction(amounts[i],fe));\n",
    "}\n",
    "System.out.println(transDay1);"
   ]
  },
  {
   "cell_type": "markdown",
   "metadata": {},
   "source": [
    "Suponga que se registra otro día de transacciones, pero se cambia el valor de la divisa:"
   ]
  },
  {
   "cell_type": "code",
   "execution_count": 20,
   "metadata": {},
   "outputs": [
    {
     "name": "stdout",
     "output_type": "stream",
     "text": [
      "[amount:  Foreign Exchange: 20.1\n",
      "Total: 24.12\n",
      ", amount:  Foreign Exchange: 20.1\n",
      "Total: 68.34\n",
      ", amount:  Foreign Exchange: 20.1\n",
      "Total: 112.56\n",
      "]\n"
     ]
    }
   ],
   "source": [
    "double amountsDay2[] = { 2.1, 4.9, 3.2 };\n",
    "fe = new ForeignEx(20.1);\n",
    "List<Transaction> transDay2 = new ArrayList<>();\n",
    "for (int i = 0; i < amountsDay2.length; i++) {\n",
    "    transDay2.add(new Transaction(amounts[i],fe));\n",
    "}\n",
    "System.out.println(transDay2);"
   ]
  },
  {
   "cell_type": "markdown",
   "metadata": {},
   "source": [
    "Aparentemente todo se encuentra bien. Si imprimimos las transacciones del día uno. Algo pasa."
   ]
  },
  {
   "cell_type": "code",
   "execution_count": 21,
   "metadata": {},
   "outputs": [
    {
     "name": "stdout",
     "output_type": "stream",
     "text": [
      "[amount:  Foreign Exchange: 20.1\n",
      "Total: 12.12\n",
      ", amount:  Foreign Exchange: 20.1\n",
      "Total: 34.339999999999996\n",
      ", amount:  Foreign Exchange: 20.1\n",
      "Total: 56.559999999999995\n",
      "]\n"
     ]
    }
   ],
   "source": [
    "System.out.println(transDay1);"
   ]
  },
  {
   "cell_type": "markdown",
   "metadata": {},
   "source": [
    "## Problema 2. (Sistema de registro de versiones)\n",
    "\n",
    "Vamos a presentar un problema que es llevar una lista de las diferentes versiones que tenemos almacenadas en un posible fichero.\n",
    "Empecemos por las clase `Version` la idea de esta clase es tener un registro del número de versión actual (por facilidad con los números de versiones que consta de al menos de tres números en secuencias diferentes X.Y.Z, la vamos a simplicar con único número). Como se puede observar nuestra clase `Version` es una clase muy simple que simplemente tiene dos constructores: Uno por omisión que inicia la secuencia en 0 y otro que inicia con un número de versión que iniciar (Se espera que el número de versión sea un número mayor e igual a 0)."
   ]
  },
  {
   "cell_type": "markdown",
   "metadata": {},
   "source": [
    "public class Version {\n",
    "  private int versionNumber;\n",
    "  public Version(int versionNumber) {\n",
    "     assert versionNumber >= 0;\n",
    "     this.versionNumber = versionNumber;\n",
    "  }\n",
    "  public Version() {\n",
    "     this(0);\n",
    "  }\n",
    "  public int getVersionNumber() {\n",
    "     return versionNumber;\n",
    "  }\n",
    "  public int incrVersionNumber() {\n",
    "      return versionNumber++;\n",
    "  }\n",
    "  public String toString() {\n",
    "      return \"\" + versionNumber;\n",
    "  }\n",
    "}"
   ]
  },
  {
   "cell_type": "markdown",
   "metadata": {},
   "source": [
    "Podemos probar en el siguiente código que va incrementando el número de versión varias veces e imprimiéndolo."
   ]
  },
  {
   "cell_type": "code",
   "execution_count": 13,
   "metadata": {},
   "outputs": [
    {
     "name": "stdout",
     "output_type": "stream",
     "text": [
      "0\n",
      "1\n",
      "2\n"
     ]
    }
   ],
   "source": [
    "Version v = new Version();\n",
    "System.out.println(v);\n",
    "v.incrVersionNumber();\n",
    "System.out.println(v);\n",
    "v.incrVersionNumber();\n",
    "System.out.println(v);"
   ]
  },
  {
   "cell_type": "markdown",
   "metadata": {},
   "source": [
    "Ahora con este código vamos a implementar una bitácora de versiones sobre un fichero. Normalmente la bitácora de versiones lleva un registro de cada versión en la que ha habido cambios en un proyecto. Para ellos vamos a utilizar una lista (`List`) de versiones donde se guarda cada una de las versiones por las que ha pasado nuestro fichero. Nuestro proyecto consta de un solo fichero. El siguiente código genera la bitácora:"
   ]
  },
  {
   "cell_type": "code",
   "execution_count": 17,
   "metadata": {},
   "outputs": [],
   "source": [
    "List<Version> log = new ArrayList<>();\n",
    "Version fileVersion = new Version();"
   ]
  },
  {
   "cell_type": "markdown",
   "metadata": {},
   "source": [
    "Vamos a simular el comportamiento de la bitácora, realizando una secuencia de 5 cambios a través del siguiente procedimiento que simula la ejecución de n versiones."
   ]
  },
  {
   "cell_type": "code",
   "execution_count": 20,
   "metadata": {},
   "outputs": [],
   "source": [
    "static void seqChanges(int n) {\n",
    "    for (int i = 0; i < n; i++) {\n",
    "        System.out.println(\"Current version: \" + fileVersion.getVersionNumber());\n",
    "        log.add(fileVersion);\n",
    "        fileVersion.incrVersionNumber();\n",
    "        System.out.println(\"New version: \" + fileVersion.getVersionNumber());\n",
    "    }\n",
    "}"
   ]
  },
  {
   "cell_type": "markdown",
   "metadata": {},
   "source": [
    "Probemos que todo (aparentemente) funciona bien:"
   ]
  },
  {
   "cell_type": "code",
   "execution_count": 21,
   "metadata": {},
   "outputs": [
    {
     "name": "stdout",
     "output_type": "stream",
     "text": [
      "Current version: 5\n",
      "New version: 6\n",
      "Current version: 6\n",
      "New version: 7\n",
      "Current version: 7\n",
      "New version: 8\n",
      "Current version: 8\n",
      "New version: 9\n",
      "Current version: 9\n",
      "New version: 10\n"
     ]
    }
   ],
   "source": [
    "seqChanges(5);"
   ]
  },
  {
   "cell_type": "markdown",
   "metadata": {},
   "source": [
    "Todo bien, hemos hecho los cambios correspondientes y se han correctamente la versiones `[0,1,2,3,4]`. El siguiente valor a registrar es el 5. Entonces, miremos el siguiente código que debe imprimir lo mismo."
   ]
  },
  {
   "cell_type": "code",
   "execution_count": 22,
   "metadata": {},
   "outputs": [
    {
     "name": "stdout",
     "output_type": "stream",
     "text": [
      "[10, 10, 10, 10, 10, 10, 10, 10, 10, 10]\n"
     ]
    }
   ],
   "source": [
    "System.out.println(log);"
   ]
  },
  {
   "cell_type": "raw",
   "metadata": {},
   "source": [
    "Lo que acaba de suceder es que el sistema imprime la secuencia de la bitácora como una secuencia de valores: `[5,5,5,5,5]`. Esto es básicamente, un problema del **estado mutable compartido**. El error se presenta en la definición de la clase `Version`. Esta no debe modificar el estado cada vez que incrementa, sino debe debe devolver la siguiente version. Corriga en el siguiente código el método `incrVersionNumber` con la nueva firma (**signature**). "
   ]
  },
  {
   "cell_type": "code",
   "execution_count": null,
   "metadata": {},
   "outputs": [],
   "source": [
    "public class Version {\n",
    "  private int versionNumber;\n",
    "  public Version(int versionNumber) {\n",
    "     assert versionNumber >= 0;\n",
    "     this.versionNumber = versionNumber;\n",
    "  }\n",
    "  public Version() {\n",
    "     this(0);\n",
    "  }\n",
    "  public int getVersionNumber() {\n",
    "     return versionNumber;\n",
    "  }\n",
    "  public Version incrVersionNumber() {\n",
    "      return new Version();\n",
    "  }\n",
    "  public String toString() {\n",
    "      return \"\" + versionNumber;\n",
    "  }\n",
    "}"
   ]
  },
  {
   "cell_type": "markdown",
   "metadata": {},
   "source": [
    "Ahora el procedimiento seqChanges cambia, en esta caso la función recibe tres valores el número `n` de veces y el valor de la versión actual. Y la función retorna un Pair donde la clave es el valor siguiente de la versión, y el valor es de la bitácora modificada. El siguiente es parte del cuerpo de la función."
   ]
  },
  {
   "cell_type": "code",
   "execution_count": 24,
   "metadata": {},
   "outputs": [],
   "source": [
    "class Pair<K,V> {\n",
    "   private K key;\n",
    "   private V value;\n",
    "   Pair(K key, V value) {\n",
    "      this.key = key;\n",
    "      this.value = value;\n",
    "   }\n",
    "   K getKey() {\n",
    "      return key;\n",
    "   }\n",
    "   V getValue() {\n",
    "      return value;\n",
    "   }\n",
    "}\n",
    "\n",
    "static Pair<Version,List<Version>> seqChange(int n, Version actual) {\n",
    "    return new Pair(actual, new ArrayList<>());\n",
    "}"
   ]
  },
  {
   "cell_type": "markdown",
   "metadata": {},
   "source": [
    "La función `seqChange` es una versión muy similar a la anterior, no es una **función pura**.\n",
    "\n"
   ]
  }
 ],
 "metadata": {
  "kernelspec": {
   "display_name": "Java",
   "language": "java",
   "name": "java"
  },
  "language_info": {
   "codemirror_mode": "java",
   "file_extension": ".jshell",
   "mimetype": "text/x-java-source",
   "name": "Java",
   "pygments_lexer": "java",
   "version": "11.0.9+11"
  }
 },
 "nbformat": 4,
 "nbformat_minor": 4
}
