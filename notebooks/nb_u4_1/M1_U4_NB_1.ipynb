{
 "cells": [
  {
   "cell_type": "markdown",
   "metadata": {},
   "source": [
    "# Sistema de control planes de visitas\n",
    "\n",
    "Una empresa de ventas ambulantes requiere controlar los planes de visitas de sus vendedores. Para ello, mantiene por cada vendedor un estricto plan de visitas llevadas de forma secuencial. Para simplicar el problema, vamos a trabajar con un único vendedor. Implementaremos nuestra solución utilizando el lenguaje de programación Java, bajo el SKD Java 9. En nuestra solución, guardaremos nuestro plan de visitas a través de la interface [`List`](https://docs.oracle.com/javase/9/docs/api/java/util/List.html) por medio de la implementación [`ArrayList`](https://docs.oracle.com/javase/9/docs/api/java/util/ArrayList.html).\n",
    "\n",
    "La idea es almacenar el plan de un vendedor, como se muestra a continuación (**Nota**: No olvides ejecutar el siguiente segmento de código)."
   ]
  },
  {
   "cell_type": "code",
   "execution_count": null,
   "metadata": {},
   "outputs": [],
   "source": [
    "import java.util.List;\n",
    "import java.util.ArrayList;\n",
    "\n",
    "List<String> planVisitasA = new ArrayList<>();\n",
    "planVisitasA.add(\"Carlos\");\n",
    "planVisitasA.add(\"Jose\");\n",
    "planVisitasA.add(\"David\");\n",
    "System.out.println(planVisitasA);"
   ]
  },
  {
   "cell_type": "markdown",
   "metadata": {},
   "source": [
    "En este caso, nuestro vendedor tiene un plan de visita en el siguiente orden: `[Carlos, Jose, David]`.\n",
    "\n",
    "La idea principal de nuestro sistema es registrar los nuevos planes, de forma que podamos tener tanto la información del *plan anterior y del plan nuevo*. Para ello, implementaremos la función `crearNuevoPlan`, de forma tal que permita:\n",
    "\n",
    "* Añadir una visita a un cliente nuevo antes que un cliente que anteriormente se visitaba.\n",
    "* Devolver el nuevo plan de visitas *modificado*.\n",
    "\n",
    "La firma de la función (***signatura***) `crearNuevoPlan` recibe un plan anterior (`planAnterior`) y a partir de este vamos a crear un nuevo plan, donde añadimos una nueva visita de un cliente nuevo (`clienteNuevo`) antes de un cliente anterior (`clienteActual`) que se encuentra en el plan anterior (`planAnterior`).\n",
    "\n",
    "Implemente la función (`crearNuevoPlan`) de forma que cree un nuevo plan a partir, por ejemplo del anterior añadiendo la visita de `Emilio` antes de `David` y al ser impreso se obtenga la siguiente información:\n",
    "\n",
    "`[Carlos, Jose, Emilio, David]`\n",
    "\n",
    "***Recuerde que aunque el resultado es específico queremos que sea genérico, es decir que a cualquier plan se le puede añadir una nueva visita***.\n",
    "\n",
    "Sugerimos utilizar en la implementación de la función (`crearNuevoPlan`) la interface [`List`](https://docs.oracle.com/javase/9/docs/api/java/util/List.html) y en particular los métodos [`indexOf`](https://docs.oracle.com/javase/9/docs/api/java/util/List.html#indexOf-java.lang.Object-) y [`add`](https://docs.oracle.com/javase/9/docs/api/java/util/List.html#add-int-E-) de dicha interface.\n",
    "\n",
    "Tenga en cuenta:\n",
    "\n",
    "* La función siempre será utilizada en planes que no están vacíos.\n",
    "* El cliente actual siempre existe.\n",
    "\n",
    "***Nota:*** Implemente la siguiente función `crearNuevoPlan`, reescriba el cuerpo de la función de forma que cree un nuevo plan y una vez definida la función añada la visita planteada al `planVisitasA` para crear el plan de visitas `planVisitasB`."
   ]
  },
  {
   "cell_type": "code",
   "execution_count": null,
   "metadata": {},
   "outputs": [],
   "source": [
    "List<String> crearNuevoPlan(List<String> planAnterior, String clienteNuevo, String clienteActual) {\n",
    "    return null;\n",
    "}\n",
    "List<String> planVisitasB = crearNuevoPlan(planVisitasA,\"Emilio\",\"David\");\n",
    "System.out.println(planVisitasB);"
   ]
  },
  {
   "cell_type": "markdown",
   "metadata": {},
   "source": [
    "El método correctamente implementado debe producir la lista ```[Carlos, Jose, Emilio, David]```, para obtener el plan ```planVisitasB```. Como son dos planes distintos esperamos que ambas listas deben ser diferentes. Probemos:"
   ]
  },
  {
   "cell_type": "code",
   "execution_count": null,
   "metadata": {},
   "outputs": [],
   "source": [
    "System.out.println(\"Ambos planes son diferentes: \"+ !planVisitasA.equals(planVisitasB));\n",
    "System.out.println(planVisitasA);\n",
    "System.out.println(planVisitasB);"
   ]
  }
 ],
 "metadata": {
  "kernelspec": {
   "display_name": "Java",
   "language": "java",
   "name": "java"
  },
  "language_info": {
   "codemirror_mode": "java",
   "file_extension": ".jshell",
   "mimetype": "text/x-java-source",
   "name": "Java",
   "pygments_lexer": "java",
   "version": "11.0.9+11"
  }
 },
 "nbformat": 4,
 "nbformat_minor": 4
}
